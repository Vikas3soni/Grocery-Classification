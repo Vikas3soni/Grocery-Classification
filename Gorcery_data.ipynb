{
  "nbformat": 4,
  "nbformat_minor": 0,
  "metadata": {
    "colab": {
      "name": "Gorcery data.ipynb",
      "version": "0.3.2",
      "provenance": [],
      "collapsed_sections": []
    },
    "kernelspec": {
      "name": "python3",
      "display_name": "Python 3"
    }
  },
  "cells": [
    {
      "metadata": {
        "id": "dLhkwmslDWN3",
        "colab_type": "text"
      },
      "cell_type": "markdown",
      "source": [
        "**Loading the data**"
      ]
    },
    {
      "metadata": {
        "id": "gFKvswI1AazS",
        "colab_type": "code",
        "outputId": "3151700a-7ca1-4364-86ec-0c319aecf40c",
        "colab": {
          "base_uri": "https://localhost:8080/",
          "height": 204
        }
      },
      "cell_type": "code",
      "source": [
        "import numpy as np\n",
        "import pandas as pd \n",
        "\n",
        "df1=pd.read_csv('purchase_history.csv')\n",
        "df2=pd.read_csv('item_to_id.csv')\n",
        "df1.head()"
      ],
      "execution_count": 0,
      "outputs": [
        {
          "output_type": "execute_result",
          "data": {
            "text/html": [
              "<div>\n",
              "<style scoped>\n",
              "    .dataframe tbody tr th:only-of-type {\n",
              "        vertical-align: middle;\n",
              "    }\n",
              "\n",
              "    .dataframe tbody tr th {\n",
              "        vertical-align: top;\n",
              "    }\n",
              "\n",
              "    .dataframe thead th {\n",
              "        text-align: right;\n",
              "    }\n",
              "</style>\n",
              "<table border=\"1\" class=\"dataframe\">\n",
              "  <thead>\n",
              "    <tr style=\"text-align: right;\">\n",
              "      <th></th>\n",
              "      <th>user_id</th>\n",
              "      <th>id</th>\n",
              "    </tr>\n",
              "  </thead>\n",
              "  <tbody>\n",
              "    <tr>\n",
              "      <th>0</th>\n",
              "      <td>222087</td>\n",
              "      <td>27,26</td>\n",
              "    </tr>\n",
              "    <tr>\n",
              "      <th>1</th>\n",
              "      <td>1343649</td>\n",
              "      <td>6,47,17</td>\n",
              "    </tr>\n",
              "    <tr>\n",
              "      <th>2</th>\n",
              "      <td>404134</td>\n",
              "      <td>18,12,23,22,27,43,38,20,35,1</td>\n",
              "    </tr>\n",
              "    <tr>\n",
              "      <th>3</th>\n",
              "      <td>1110200</td>\n",
              "      <td>9,23,2,20,26,47,37</td>\n",
              "    </tr>\n",
              "    <tr>\n",
              "      <th>4</th>\n",
              "      <td>224107</td>\n",
              "      <td>31,18,5,13,1,21,48,16,26,2,44,32,20,37,42,35,4...</td>\n",
              "    </tr>\n",
              "  </tbody>\n",
              "</table>\n",
              "</div>"
            ],
            "text/plain": [
              "   user_id                                                 id\n",
              "0   222087                                              27,26\n",
              "1  1343649                                            6,47,17\n",
              "2   404134                       18,12,23,22,27,43,38,20,35,1\n",
              "3  1110200                                 9,23,2,20,26,47,37\n",
              "4   224107  31,18,5,13,1,21,48,16,26,2,44,32,20,37,42,35,4..."
            ]
          },
          "metadata": {
            "tags": []
          },
          "execution_count": 3
        }
      ]
    },
    {
      "metadata": {
        "id": "R6vowh98DhNj",
        "colab_type": "text"
      },
      "cell_type": "markdown",
      "source": [
        "### Number of trasctions VS total unique customer count"
      ]
    },
    {
      "metadata": {
        "id": "J4bUyc9gBBaZ",
        "colab_type": "code",
        "outputId": "fcc5b143-2800-4e70-cac8-6ef6ad14abf3",
        "colab": {
          "base_uri": "https://localhost:8080/",
          "height": 51
        }
      },
      "cell_type": "code",
      "source": [
        "print(df1.shape)\n",
        "df1['user_id'].nunique()"
      ],
      "execution_count": 0,
      "outputs": [
        {
          "output_type": "stream",
          "text": [
            "(39474, 2)\n"
          ],
          "name": "stdout"
        },
        {
          "output_type": "execute_result",
          "data": {
            "text/plain": [
              "24885"
            ]
          },
          "metadata": {
            "tags": []
          },
          "execution_count": 4
        }
      ]
    },
    {
      "metadata": {
        "id": "xZhG89WTD40v",
        "colab_type": "text"
      },
      "cell_type": "markdown",
      "source": [
        "### For second file creating dictionary for mapping purpose"
      ]
    },
    {
      "metadata": {
        "id": "sCae69OrBIru",
        "colab_type": "code",
        "outputId": "49ccfb5e-f806-4046-bc68-ed9ef824e156",
        "colab": {
          "base_uri": "https://localhost:8080/",
          "height": 54
        }
      },
      "cell_type": "code",
      "source": [
        "df2.shape\n",
        "df2.columns\n",
        "#creating dictionary from data\n",
        "dict = df2.set_index('Item_id').to_dict()['Item_name']\n",
        "dict.values()"
      ],
      "execution_count": 0,
      "outputs": [
        {
          "output_type": "execute_result",
          "data": {
            "text/plain": [
              "dict_values(['coffee', 'tea', 'juice', 'soda', 'sandwich loaves', 'dinner rolls', 'tortillas', 'bagels', 'canned vegetables', 'spaghetti sauce', 'ketchup', 'cheeses', 'eggs', 'milk', 'yogurt', 'butter', 'cereals', 'flour', 'sugar', 'pasta', 'waffles', 'frozen vegetables', 'ice cream', 'poultry', 'beef', 'pork', 'bananas', 'berries', 'cherries', 'grapefruit', 'apples', 'broccoli', 'carrots', 'cauliflower', 'cucumbers', 'lettuce', 'laundry detergent', 'dishwashing\\xa0', 'paper towels', 'toilet paper', 'aluminum foil', 'sandwich bags', 'shampoo', 'soap', 'hand soap', 'shaving cream', 'baby items', 'pet items'])"
            ]
          },
          "metadata": {
            "tags": []
          },
          "execution_count": 5
        }
      ]
    },
    {
      "metadata": {
        "id": "ZK00lX3bECPe",
        "colab_type": "text"
      },
      "cell_type": "markdown",
      "source": [
        "## Task 1\n",
        "\n",
        "**the customer who bought the most items overall in her lifetime**"
      ]
    },
    {
      "metadata": {
        "id": "poaQLXr9EQYj",
        "colab_type": "text"
      },
      "cell_type": "markdown",
      "source": [
        "### Approach\n",
        "\n",
        "count the no of total items purchase by each customers.\n",
        "\n",
        "adding a new columns which tell the count of item purchase for that transction."
      ]
    },
    {
      "metadata": {
        "id": "R2WnHuXTBMJH",
        "colab_type": "code",
        "outputId": "084deb12-c2a5-40ce-8d5c-26a764a78c7a",
        "colab": {
          "base_uri": "https://localhost:8080/",
          "height": 204
        }
      },
      "cell_type": "code",
      "source": [
        "count_items = []\n",
        "for i in range(df1.shape[0]):\n",
        "    count_items.append(len(df1[\"id\"].loc[i].split(\",\")) )\n",
        "\n",
        "df1[\"count_item\"]=count_items\n",
        "df1.head()"
      ],
      "execution_count": 0,
      "outputs": [
        {
          "output_type": "execute_result",
          "data": {
            "text/html": [
              "<div>\n",
              "<style scoped>\n",
              "    .dataframe tbody tr th:only-of-type {\n",
              "        vertical-align: middle;\n",
              "    }\n",
              "\n",
              "    .dataframe tbody tr th {\n",
              "        vertical-align: top;\n",
              "    }\n",
              "\n",
              "    .dataframe thead th {\n",
              "        text-align: right;\n",
              "    }\n",
              "</style>\n",
              "<table border=\"1\" class=\"dataframe\">\n",
              "  <thead>\n",
              "    <tr style=\"text-align: right;\">\n",
              "      <th></th>\n",
              "      <th>user_id</th>\n",
              "      <th>id</th>\n",
              "      <th>count_item</th>\n",
              "    </tr>\n",
              "  </thead>\n",
              "  <tbody>\n",
              "    <tr>\n",
              "      <th>0</th>\n",
              "      <td>222087</td>\n",
              "      <td>27,26</td>\n",
              "      <td>2</td>\n",
              "    </tr>\n",
              "    <tr>\n",
              "      <th>1</th>\n",
              "      <td>1343649</td>\n",
              "      <td>6,47,17</td>\n",
              "      <td>3</td>\n",
              "    </tr>\n",
              "    <tr>\n",
              "      <th>2</th>\n",
              "      <td>404134</td>\n",
              "      <td>18,12,23,22,27,43,38,20,35,1</td>\n",
              "      <td>10</td>\n",
              "    </tr>\n",
              "    <tr>\n",
              "      <th>3</th>\n",
              "      <td>1110200</td>\n",
              "      <td>9,23,2,20,26,47,37</td>\n",
              "      <td>7</td>\n",
              "    </tr>\n",
              "    <tr>\n",
              "      <th>4</th>\n",
              "      <td>224107</td>\n",
              "      <td>31,18,5,13,1,21,48,16,26,2,44,32,20,37,42,35,4...</td>\n",
              "      <td>20</td>\n",
              "    </tr>\n",
              "  </tbody>\n",
              "</table>\n",
              "</div>"
            ],
            "text/plain": [
              "   user_id                                                 id  count_item\n",
              "0   222087                                              27,26           2\n",
              "1  1343649                                            6,47,17           3\n",
              "2   404134                       18,12,23,22,27,43,38,20,35,1          10\n",
              "3  1110200                                 9,23,2,20,26,47,37           7\n",
              "4   224107  31,18,5,13,1,21,48,16,26,2,44,32,20,37,42,35,4...          20"
            ]
          },
          "metadata": {
            "tags": []
          },
          "execution_count": 6
        }
      ]
    },
    {
      "metadata": {
        "id": "CBB514dZE4PJ",
        "colab_type": "text"
      },
      "cell_type": "markdown",
      "source": [
        "**Using grouping function count the total no of item purchase by each cutomer.**"
      ]
    },
    {
      "metadata": {
        "id": "2ZUMS0SFBQFw",
        "colab_type": "code",
        "outputId": "9bb5e373-25be-48de-e390-2eeb20b1a1ad",
        "colab": {
          "base_uri": "https://localhost:8080/",
          "height": 235
        }
      },
      "cell_type": "code",
      "source": [
        "data = df1[['user_id','count_item']]\n",
        "user_wise_count=df1.groupby('user_id').sum()\n",
        "user_wise_count.sort_values(['count_item'], ascending=False).head()"
      ],
      "execution_count": 0,
      "outputs": [
        {
          "output_type": "execute_result",
          "data": {
            "text/html": [
              "<div>\n",
              "<style scoped>\n",
              "    .dataframe tbody tr th:only-of-type {\n",
              "        vertical-align: middle;\n",
              "    }\n",
              "\n",
              "    .dataframe tbody tr th {\n",
              "        vertical-align: top;\n",
              "    }\n",
              "\n",
              "    .dataframe thead th {\n",
              "        text-align: right;\n",
              "    }\n",
              "</style>\n",
              "<table border=\"1\" class=\"dataframe\">\n",
              "  <thead>\n",
              "    <tr style=\"text-align: right;\">\n",
              "      <th></th>\n",
              "      <th>count_item</th>\n",
              "    </tr>\n",
              "    <tr>\n",
              "      <th>user_id</th>\n",
              "      <th></th>\n",
              "    </tr>\n",
              "  </thead>\n",
              "  <tbody>\n",
              "    <tr>\n",
              "      <th>269335</th>\n",
              "      <td>72</td>\n",
              "    </tr>\n",
              "    <tr>\n",
              "      <th>367872</th>\n",
              "      <td>70</td>\n",
              "    </tr>\n",
              "    <tr>\n",
              "      <th>397623</th>\n",
              "      <td>64</td>\n",
              "    </tr>\n",
              "    <tr>\n",
              "      <th>599172</th>\n",
              "      <td>64</td>\n",
              "    </tr>\n",
              "    <tr>\n",
              "      <th>377284</th>\n",
              "      <td>63</td>\n",
              "    </tr>\n",
              "  </tbody>\n",
              "</table>\n",
              "</div>"
            ],
            "text/plain": [
              "         count_item\n",
              "user_id            \n",
              "269335           72\n",
              "367872           70\n",
              "397623           64\n",
              "599172           64\n",
              "377284           63"
            ]
          },
          "metadata": {
            "tags": []
          },
          "execution_count": 7
        }
      ]
    },
    {
      "metadata": {
        "id": "FniF_HGjFH3Y",
        "colab_type": "text"
      },
      "cell_type": "markdown",
      "source": [
        "## Task 2\n",
        "\n",
        "for each item, the customer who bought that product the most"
      ]
    },
    {
      "metadata": {
        "id": "70qCiu99FQhd",
        "colab_type": "text"
      },
      "cell_type": "markdown",
      "source": [
        "### Approach\n",
        "\n",
        "segregate each item corresposd to cutomers then for each item we can find the the customer who have highest sum ."
      ]
    },
    {
      "metadata": {
        "id": "4g6Aw13jF4Wu",
        "colab_type": "text"
      },
      "cell_type": "markdown",
      "source": [
        "list of list"
      ]
    },
    {
      "metadata": {
        "id": "Rq4moptwBVmy",
        "colab_type": "code",
        "outputId": "f20e6821-6579-49e1-ae79-5d9e90e1d372",
        "colab": {
          "base_uri": "https://localhost:8080/",
          "height": 34
        }
      },
      "cell_type": "code",
      "source": [
        "item_arr = []\n",
        "for i in range(df1.shape[0]):\n",
        "    item_arr.append(df1[\"id\"].loc[i].split(\",\") )\n",
        "len(item_arr)\n",
        "#item_arr"
      ],
      "execution_count": 0,
      "outputs": [
        {
          "output_type": "execute_result",
          "data": {
            "text/plain": [
              "39474"
            ]
          },
          "metadata": {
            "tags": []
          },
          "execution_count": 8
        }
      ]
    },
    {
      "metadata": {
        "id": "fQF6p2RaF_Tx",
        "colab_type": "text"
      },
      "cell_type": "markdown",
      "source": [
        "using dictionary converting id to value"
      ]
    },
    {
      "metadata": {
        "id": "GwgH3wyyB4jr",
        "colab_type": "code",
        "colab": {}
      },
      "cell_type": "code",
      "source": [
        "final_arr = []\n",
        "for i in range(len(item_arr)):\n",
        "    temp_arr = []\n",
        "    temp_arr = item_arr[i]\n",
        "    for i in range(len(temp_arr)):\n",
        "        temp_arr[i]  = dict[int(temp_arr[i])]\n",
        "    final_arr.append(temp_arr)\n",
        " "
      ],
      "execution_count": 0,
      "outputs": []
    },
    {
      "metadata": {
        "id": "pvxNIhVMBe30",
        "colab_type": "code",
        "colab": {}
      },
      "cell_type": "code",
      "source": [
        "purchase_user_arr = df1['user_id']\n",
        "user_to_item =[]\n",
        "for i in range(len(final_arr)):\n",
        "    dum = []\n",
        "    dum = final_arr[i]\n",
        "    for j in range(len(dum)):\n",
        "           user_to_item.append([purchase_user_arr[i], dum[j]])"
      ],
      "execution_count": 0,
      "outputs": []
    },
    {
      "metadata": {
        "id": "SPCWfb46GbhG",
        "colab_type": "text"
      },
      "cell_type": "markdown",
      "source": [
        "converting each item with userid."
      ]
    },
    {
      "metadata": {
        "id": "FrwlFKzYBnzu",
        "colab_type": "code",
        "colab": {}
      },
      "cell_type": "code",
      "source": [
        "user_item_df = pd.DataFrame(user_to_item, columns=['user_id', 'item_code'])\n",
        "user_item_df.head(3)\n",
        "user_item_df['sell']=1\n",
        "#user_item_df.shape"
      ],
      "execution_count": 0,
      "outputs": []
    },
    {
      "metadata": {
        "id": "MuC1o_EuGXwd",
        "colab_type": "text"
      },
      "cell_type": "markdown",
      "source": [
        "find the target"
      ]
    },
    {
      "metadata": {
        "id": "4Z6CDD4XNDuY",
        "colab_type": "text"
      },
      "cell_type": "markdown",
      "source": [
        "for each item we will sum for each custmer and that who will be max will be considered."
      ]
    },
    {
      "metadata": {
        "id": "CBkTWcAzCYAD",
        "colab_type": "code",
        "colab": {}
      },
      "cell_type": "code",
      "source": [
        "item_list = user_item_df['item_code'].unique()\n",
        "\n",
        "item_fav_customer = []\n",
        "for item in item_list:\n",
        "    item_df = user_item_df[user_item_df[\"item_code\"] == item]\n",
        "    item_fav_customer.append([item, item_df['user_id'].value_counts().idxmax()])"
      ],
      "execution_count": 0,
      "outputs": []
    },
    {
      "metadata": {
        "id": "8-O7kzmNCe7m",
        "colab_type": "code",
        "outputId": "8785a9ae-e166-4647-b58c-be818b53aec5",
        "colab": {
          "base_uri": "https://localhost:8080/",
          "height": 833
        }
      },
      "cell_type": "code",
      "source": [
        "for item in item_fav_customer:\n",
        "    print (item)"
      ],
      "execution_count": 0,
      "outputs": [
        {
          "output_type": "stream",
          "text": [
            "['dishwashing\\xa0', 956666]\n",
            "['spaghetti sauce', 1341188]\n",
            "['poultry', 334664]\n",
            "['pork', 1374100]\n",
            "['beef', 366155]\n",
            "['laundry detergent', 917199]\n",
            "['shampoo', 791038]\n",
            "['tea', 920002]\n",
            "['frozen vegetables', 1199670]\n",
            "['coffee', 996380]\n",
            "['juice', 255546]\n",
            "['grapefruit', 1433799]\n",
            "['soap', 1003550]\n",
            "['sugar', 1301034]\n",
            "['soda', 397623]\n",
            "['lettuce', 31625]\n",
            "['dinner rolls', 364868]\n",
            "['pasta', 289360]\n",
            "['waffles', 217277]\n",
            "['bagels', 820788]\n",
            "['cheeses', 884172]\n",
            "['yogurt', 943163]\n",
            "['milk', 837807]\n",
            "['broccoli', 297185]\n",
            "['apples', 1303742]\n",
            "['cucumbers', 80215]\n",
            "['berries', 384935]\n",
            "['sandwich bags', 360336]\n",
            "['hand soap', 394348]\n",
            "['butter', 478446]\n",
            "['cauliflower', 1198106]\n",
            "['aluminum foil', 143741]\n",
            "['cereals', 367872]\n",
            "['cherries', 109578]\n",
            "['eggs', 172120]\n",
            "['ketchup', 133355]\n",
            "['canned vegetables', 238495]\n",
            "['carrots', 743501]\n",
            "['bananas', 1218645]\n",
            "['pet items', 1433188]\n",
            "['shaving cream', 31625]\n",
            "['sandwich loaves', 599172]\n",
            "['flour', 1076958]\n",
            "['tortillas', 1485538]\n",
            "['toilet paper', 1425746]\n",
            "['paper towels', 1077463]\n",
            "['ice cream', 269335]\n",
            "['baby items', 73071]\n"
          ],
          "name": "stdout"
        }
      ]
    },
    {
      "metadata": {
        "id": "lgAi9n0YGk0V",
        "colab_type": "text"
      },
      "cell_type": "markdown",
      "source": [
        "### Task 3\n",
        "\n",
        "**Cluster items based on user co-purchase history.**"
      ]
    },
    {
      "metadata": {
        "id": "AH2yd3Ga7c7m",
        "colab_type": "text"
      },
      "cell_type": "markdown",
      "source": [
        "creating the dataframe with customer wise while keeping item as columns"
      ]
    },
    {
      "metadata": {
        "id": "f_zEAjqCCilJ",
        "colab_type": "code",
        "outputId": "fb8df6d5-0b49-44f4-ee3c-4a2650d828cb",
        "colab": {
          "base_uri": "https://localhost:8080/",
          "height": 301
        }
      },
      "cell_type": "code",
      "source": [
        "useritem_pivot = user_item_df.pivot_table(index=['user_id'],columns=['item_code'],values='sell')\n",
        "useritem_pivot.fillna(0, inplace=True)\n",
        "useritem_pivot.tail(5)\n",
        "#useritem_pivot.shape"
      ],
      "execution_count": 0,
      "outputs": [
        {
          "output_type": "execute_result",
          "data": {
            "text/html": [
              "<div>\n",
              "<style scoped>\n",
              "    .dataframe tbody tr th:only-of-type {\n",
              "        vertical-align: middle;\n",
              "    }\n",
              "\n",
              "    .dataframe tbody tr th {\n",
              "        vertical-align: top;\n",
              "    }\n",
              "\n",
              "    .dataframe thead th {\n",
              "        text-align: right;\n",
              "    }\n",
              "</style>\n",
              "<table border=\"1\" class=\"dataframe\">\n",
              "  <thead>\n",
              "    <tr style=\"text-align: right;\">\n",
              "      <th>item_code</th>\n",
              "      <th>aluminum foil</th>\n",
              "      <th>apples</th>\n",
              "      <th>baby items</th>\n",
              "      <th>bagels</th>\n",
              "      <th>bananas</th>\n",
              "      <th>beef</th>\n",
              "      <th>berries</th>\n",
              "      <th>broccoli</th>\n",
              "      <th>butter</th>\n",
              "      <th>canned vegetables</th>\n",
              "      <th>...</th>\n",
              "      <th>shaving cream</th>\n",
              "      <th>soap</th>\n",
              "      <th>soda</th>\n",
              "      <th>spaghetti sauce</th>\n",
              "      <th>sugar</th>\n",
              "      <th>tea</th>\n",
              "      <th>toilet paper</th>\n",
              "      <th>tortillas</th>\n",
              "      <th>waffles</th>\n",
              "      <th>yogurt</th>\n",
              "    </tr>\n",
              "    <tr>\n",
              "      <th>user_id</th>\n",
              "      <th></th>\n",
              "      <th></th>\n",
              "      <th></th>\n",
              "      <th></th>\n",
              "      <th></th>\n",
              "      <th></th>\n",
              "      <th></th>\n",
              "      <th></th>\n",
              "      <th></th>\n",
              "      <th></th>\n",
              "      <th></th>\n",
              "      <th></th>\n",
              "      <th></th>\n",
              "      <th></th>\n",
              "      <th></th>\n",
              "      <th></th>\n",
              "      <th></th>\n",
              "      <th></th>\n",
              "      <th></th>\n",
              "      <th></th>\n",
              "      <th></th>\n",
              "    </tr>\n",
              "  </thead>\n",
              "  <tbody>\n",
              "    <tr>\n",
              "      <th>1499730</th>\n",
              "      <td>0.0</td>\n",
              "      <td>0.0</td>\n",
              "      <td>0.0</td>\n",
              "      <td>0.0</td>\n",
              "      <td>0.0</td>\n",
              "      <td>0.0</td>\n",
              "      <td>0.0</td>\n",
              "      <td>0.0</td>\n",
              "      <td>0.0</td>\n",
              "      <td>0.0</td>\n",
              "      <td>...</td>\n",
              "      <td>0.0</td>\n",
              "      <td>0.0</td>\n",
              "      <td>0.0</td>\n",
              "      <td>0.0</td>\n",
              "      <td>0.0</td>\n",
              "      <td>0.0</td>\n",
              "      <td>0.0</td>\n",
              "      <td>0.0</td>\n",
              "      <td>0.0</td>\n",
              "      <td>0.0</td>\n",
              "    </tr>\n",
              "    <tr>\n",
              "      <th>1499778</th>\n",
              "      <td>0.0</td>\n",
              "      <td>1.0</td>\n",
              "      <td>0.0</td>\n",
              "      <td>0.0</td>\n",
              "      <td>0.0</td>\n",
              "      <td>0.0</td>\n",
              "      <td>0.0</td>\n",
              "      <td>0.0</td>\n",
              "      <td>0.0</td>\n",
              "      <td>0.0</td>\n",
              "      <td>...</td>\n",
              "      <td>0.0</td>\n",
              "      <td>0.0</td>\n",
              "      <td>0.0</td>\n",
              "      <td>1.0</td>\n",
              "      <td>0.0</td>\n",
              "      <td>0.0</td>\n",
              "      <td>0.0</td>\n",
              "      <td>0.0</td>\n",
              "      <td>0.0</td>\n",
              "      <td>1.0</td>\n",
              "    </tr>\n",
              "    <tr>\n",
              "      <th>1499797</th>\n",
              "      <td>0.0</td>\n",
              "      <td>0.0</td>\n",
              "      <td>0.0</td>\n",
              "      <td>1.0</td>\n",
              "      <td>0.0</td>\n",
              "      <td>0.0</td>\n",
              "      <td>0.0</td>\n",
              "      <td>1.0</td>\n",
              "      <td>0.0</td>\n",
              "      <td>0.0</td>\n",
              "      <td>...</td>\n",
              "      <td>0.0</td>\n",
              "      <td>0.0</td>\n",
              "      <td>0.0</td>\n",
              "      <td>0.0</td>\n",
              "      <td>0.0</td>\n",
              "      <td>0.0</td>\n",
              "      <td>0.0</td>\n",
              "      <td>1.0</td>\n",
              "      <td>0.0</td>\n",
              "      <td>1.0</td>\n",
              "    </tr>\n",
              "    <tr>\n",
              "      <th>1499817</th>\n",
              "      <td>0.0</td>\n",
              "      <td>1.0</td>\n",
              "      <td>0.0</td>\n",
              "      <td>0.0</td>\n",
              "      <td>0.0</td>\n",
              "      <td>1.0</td>\n",
              "      <td>0.0</td>\n",
              "      <td>1.0</td>\n",
              "      <td>1.0</td>\n",
              "      <td>0.0</td>\n",
              "      <td>...</td>\n",
              "      <td>1.0</td>\n",
              "      <td>0.0</td>\n",
              "      <td>1.0</td>\n",
              "      <td>0.0</td>\n",
              "      <td>1.0</td>\n",
              "      <td>1.0</td>\n",
              "      <td>0.0</td>\n",
              "      <td>1.0</td>\n",
              "      <td>0.0</td>\n",
              "      <td>1.0</td>\n",
              "    </tr>\n",
              "    <tr>\n",
              "      <th>1499974</th>\n",
              "      <td>0.0</td>\n",
              "      <td>0.0</td>\n",
              "      <td>0.0</td>\n",
              "      <td>1.0</td>\n",
              "      <td>0.0</td>\n",
              "      <td>0.0</td>\n",
              "      <td>0.0</td>\n",
              "      <td>0.0</td>\n",
              "      <td>1.0</td>\n",
              "      <td>0.0</td>\n",
              "      <td>...</td>\n",
              "      <td>0.0</td>\n",
              "      <td>0.0</td>\n",
              "      <td>0.0</td>\n",
              "      <td>0.0</td>\n",
              "      <td>0.0</td>\n",
              "      <td>1.0</td>\n",
              "      <td>0.0</td>\n",
              "      <td>1.0</td>\n",
              "      <td>1.0</td>\n",
              "      <td>0.0</td>\n",
              "    </tr>\n",
              "  </tbody>\n",
              "</table>\n",
              "<p>5 rows × 48 columns</p>\n",
              "</div>"
            ],
            "text/plain": [
              "item_code  aluminum foil  apples  baby items  bagels  bananas  beef  berries  \\\n",
              "user_id                                                                        \n",
              "1499730              0.0     0.0         0.0     0.0      0.0   0.0      0.0   \n",
              "1499778              0.0     1.0         0.0     0.0      0.0   0.0      0.0   \n",
              "1499797              0.0     0.0         0.0     1.0      0.0   0.0      0.0   \n",
              "1499817              0.0     1.0         0.0     0.0      0.0   1.0      0.0   \n",
              "1499974              0.0     0.0         0.0     1.0      0.0   0.0      0.0   \n",
              "\n",
              "item_code  broccoli  butter  canned vegetables   ...    shaving cream  soap  \\\n",
              "user_id                                          ...                          \n",
              "1499730         0.0     0.0                0.0   ...              0.0   0.0   \n",
              "1499778         0.0     0.0                0.0   ...              0.0   0.0   \n",
              "1499797         1.0     0.0                0.0   ...              0.0   0.0   \n",
              "1499817         1.0     1.0                0.0   ...              1.0   0.0   \n",
              "1499974         0.0     1.0                0.0   ...              0.0   0.0   \n",
              "\n",
              "item_code  soda  spaghetti sauce  sugar  tea  toilet paper  tortillas  \\\n",
              "user_id                                                                 \n",
              "1499730     0.0              0.0    0.0  0.0           0.0        0.0   \n",
              "1499778     0.0              1.0    0.0  0.0           0.0        0.0   \n",
              "1499797     0.0              0.0    0.0  0.0           0.0        1.0   \n",
              "1499817     1.0              0.0    1.0  1.0           0.0        1.0   \n",
              "1499974     0.0              0.0    0.0  1.0           0.0        1.0   \n",
              "\n",
              "item_code  waffles  yogurt  \n",
              "user_id                     \n",
              "1499730        0.0     0.0  \n",
              "1499778        0.0     1.0  \n",
              "1499797        0.0     1.0  \n",
              "1499817        0.0     1.0  \n",
              "1499974        1.0     0.0  \n",
              "\n",
              "[5 rows x 48 columns]"
            ]
          },
          "metadata": {
            "tags": []
          },
          "execution_count": 42
        }
      ]
    },
    {
      "metadata": {
        "id": "rIl4I2UF8Xt8",
        "colab_type": "text"
      },
      "cell_type": "markdown",
      "source": [
        "for finding realtion among features we have to make corr matrix."
      ]
    },
    {
      "metadata": {
        "id": "_Qtc2fUbCnKk",
        "colab_type": "code",
        "colab": {}
      },
      "cell_type": "code",
      "source": [
        "corr = items.corr()\n",
        "#print(corr)\n",
        "names=list(corr.index.values)"
      ],
      "execution_count": 0,
      "outputs": []
    },
    {
      "metadata": {
        "id": "H0iZzuR7C80r",
        "colab_type": "code",
        "outputId": "78093a88-2c9f-4e5d-c067-a54054ec9a2b",
        "colab": {
          "base_uri": "https://localhost:8080/",
          "height": 714
        }
      },
      "cell_type": "code",
      "source": [
        "# calculate full dendrogram\n",
        "import matplotlib.pyplot as plt\n",
        "from scipy.cluster.hierarchy import dendrogram, linkage\n",
        "\n",
        "Z = linkage(corr, 'ward')\n",
        "max_d = 7              \n",
        "\n",
        "plt.figure(figsize=(25, 10))\n",
        "plt.title('Clustering Dendrogram')\n",
        "plt.xlabel('Items')\n",
        "plt.ylabel('distance')\n",
        "dendrogram(\n",
        "    Z,\n",
        "    truncate_mode='lastp',  \n",
        "    p=50,                  # changing values of p\n",
        "    labels=names,\n",
        "    leaf_rotation=90.,     \n",
        "    leaf_font_size=10.,     \n",
        ")\n",
        "\n",
        "plt.show()\n"
      ],
      "execution_count": 0,
      "outputs": [
        {
          "output_type": "display_data",
          "data": {
            "image/png": "[encoded data removed]",
            "text/plain": [
              "<matplotlib.figure.Figure at 0x7fe888583438>"
            ]
          },
          "metadata": {
            "tags": []
          }
        }
      ]
    },
    {
      "metadata": {
        "id": "ZdDSIe2wU7ok",
        "colab_type": "code",
        "colab": {}
      },
      "cell_type": "code",
      "source": [
        ""
      ],
      "execution_count": 0,
      "outputs": []
    }
  ]
}